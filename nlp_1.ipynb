{
  "nbformat": 4,
  "nbformat_minor": 0,
  "metadata": {
    "colab": {
      "provenance": []
    },
    "kernelspec": {
      "name": "python3",
      "display_name": "Python 3"
    },
    "language_info": {
      "name": "python"
    }
  },
  "cells": [
    {
      "cell_type": "markdown",
      "source": [
        "# Nlp from local videos"
      ],
      "metadata": {
        "id": "Y81nh9cXh-oe"
      }
    },
    {
      "cell_type": "code",
      "execution_count": 1,
      "metadata": {
        "id": "XmaiCp6Vh61L"
      },
      "outputs": [],
      "source": [
        "import spacy\n",
        "import re"
      ]
    },
    {
      "cell_type": "code",
      "source": [
        "nlp = spacy.load('en_core_web_sm')"
      ],
      "metadata": {
        "id": "ZpcLIRIMiITA"
      },
      "execution_count": 2,
      "outputs": []
    },
    {
      "cell_type": "code",
      "source": [
        "doc = 'I always uh do the main um processing, I mean, the uh um data-processing.'\n"
      ],
      "metadata": {
        "id": "si3TUXcSiUf1"
      },
      "execution_count": 3,
      "outputs": []
    },
    {
      "cell_type": "code",
      "source": [
        "stats = nlp(doc)"
      ],
      "metadata": {
        "id": "Gt6dNqmriqZV"
      },
      "execution_count": 4,
      "outputs": []
    },
    {
      "cell_type": "code",
      "source": [
        "for token in stats:\n",
        "  print(token.text)"
      ],
      "metadata": {
        "colab": {
          "base_uri": "https://localhost:8080/"
        },
        "id": "4iuLSH0viuUO",
        "outputId": "473f8436-f94c-4643-83b3-cb2bbf252083"
      },
      "execution_count": 5,
      "outputs": [
        {
          "output_type": "stream",
          "name": "stdout",
          "text": [
            "I\n",
            "always\n",
            "uh\n",
            "do\n",
            "the\n",
            "main\n",
            "um\n",
            "processing\n",
            ",\n",
            "I\n",
            "mean\n",
            ",\n",
            "the\n",
            "uh\n",
            "um\n",
            "data\n",
            "-\n",
            "processing\n",
            ".\n"
          ]
        }
      ]
    },
    {
      "cell_type": "code",
      "source": [
        "doc2 = 'U.K. has a reasonable population'\n",
        "stats = nlp(doc2)\n",
        "for token in stats:\n",
        "  print(token.text)"
      ],
      "metadata": {
        "colab": {
          "base_uri": "https://localhost:8080/"
        },
        "id": "438HvoBFizTe",
        "outputId": "8d7600a3-fcf5-4347-fa98-5cdf0cedd06c"
      },
      "execution_count": 6,
      "outputs": [
        {
          "output_type": "stream",
          "name": "stdout",
          "text": [
            "U.K.\n",
            "has\n",
            "a\n",
            "reasonable\n",
            "population\n"
          ]
        }
      ]
    },
    {
      "cell_type": "markdown",
      "source": [
        "# why spacy is good"
      ],
      "metadata": {
        "id": "C2i9gH5Ujyud"
      }
    },
    {
      "cell_type": "code",
      "source": [
        "print(re.split('\\W+', doc))"
      ],
      "metadata": {
        "colab": {
          "base_uri": "https://localhost:8080/"
        },
        "id": "hBh7kxqsjPuV",
        "outputId": "3f92e71b-a5c1-4bd6-f496-e5483665f077"
      },
      "execution_count": 8,
      "outputs": [
        {
          "output_type": "stream",
          "name": "stdout",
          "text": [
            "['I', 'always', 'uh', 'do', 'the', 'main', 'um', 'processing', 'I', 'mean', 'the', 'uh', 'um', 'data', 'processing', '']\n"
          ]
        }
      ]
    },
    {
      "cell_type": "code",
      "source": [
        "print(re.split('\\W+', doc2))"
      ],
      "metadata": {
        "colab": {
          "base_uri": "https://localhost:8080/"
        },
        "id": "3zIBopeVjYcV",
        "outputId": "0c4ae583-4239-4899-cb5b-0d7ebb899d1b"
      },
      "execution_count": 9,
      "outputs": [
        {
          "output_type": "stream",
          "name": "stdout",
          "text": [
            "['U', 'K', 'has', 'a', 'reasonable', 'population']\n"
          ]
        }
      ]
    },
    {
      "cell_type": "code",
      "source": [],
      "metadata": {
        "id": "qcz8WMj0juic"
      },
      "execution_count": null,
      "outputs": []
    }
  ]
}